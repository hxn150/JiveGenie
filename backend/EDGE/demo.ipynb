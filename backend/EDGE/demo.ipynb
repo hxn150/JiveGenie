{
 "cells": [
  {
   "cell_type": "markdown",
   "id": "fd4a7881-12b8-4e6c-8c93-abf55abbfbd6",
   "metadata": {},
   "source": [
    "![EDGE cover image](media/edge_cover.png)\n",
    "# EDGE Demo\n",
    "## 1. Download Custom Music\n",
    "\n",
    "First, download the music you want to process. We provide a list of popular songs from the past 50 years as a default demo."
   ]
  },
  {
   "cell_type": "code",
   "execution_count": null,
   "id": "bf2f38b9-516e-4bfd-81f6-bbb671ea0751",
   "metadata": {},
   "outputs": [],
   "source": [
    "# Output Directories\n",
    "output_folder = \"custom_music\"\n",
    "motion_folder = \"SMPL-to-FBX/motions\"\n",
    "fbx_folder = \"SMPL-to-FBX/fbx_out\""
   ]
  },
  {
   "cell_type": "code",
   "execution_count": null,
   "id": "39f4753c-1b84-4821-acec-96d6985f3bb4",
   "metadata": {},
   "outputs": [],
   "source": [
    "urllist = [\n",
    "    \"https://www.youtube.com/watch?v=2RicaUqd9Hg\",\n",
    "    \"https://www.youtube.com/watch?v=-CCgDvUM4TM\",\n",
    "    \"https://www.youtube.com/watch?v=9KhbM2mqhCQ\",\n",
    "    \"https://www.youtube.com/watch?v=s3bksUSPB4c\",\n",
    "    \"https://www.youtube.com/watch?v=ABfQuZqq8wg\",\n",
    "    \"https://www.youtube.com/watch?v=fNFzfwLM72c\",\n",
    "    \"https://www.youtube.com/watch?v=9i6bCWIdhBw\",\n",
    "    \"https://www.youtube.com/watch?v=yURRmWtbTbo\",\n",
    "    \"https://www.youtube.com/watch?v=god7hAPv8f0\",\n",
    "    \"https://www.youtube.com/watch?v=1sqE6P3XyiQ\",\n",
    "    \"https://www.youtube.com/watch?v=Zi_XLOBDo_Y\",\n",
    "    \"https://www.youtube.com/watch?v=UHXGc2oWyJ4\",\n",
    "    \"https://www.youtube.com/watch?v=h4bP9tj_0Zk\",\n",
    "    \"https://www.youtube.com/watch?v=qK5KhQG06xU\",\n",
    "    \"https://www.youtube.com/watch?v=FDMHZFJnk2s\",\n",
    "    \"https://www.youtube.com/watch?v=4NJH75q0Syk\",\n",
    "    \"https://www.youtube.com/watch?v=ggJI9dKBk48\",\n",
    "    \"https://www.youtube.com/watch?v=LPYw3jXjd74\",\n",
    "    \"https://www.youtube.com/watch?v=P-sGt5E2epc\",\n",
    "    \"https://www.youtube.com/watch?v=GxBSyx85Kp8\",\n",
    "    \"https://www.youtube.com/watch?v=OPf0YbXqDm0\",\n",
    "    \"https://www.youtube.com/watch?v=c18441Eh_WE\",\n",
    "    \"https://www.youtube.com/watch?v=uSD4vsh1zDA\",\n",
    "    \"https://www.youtube.com/watch?v=ViwtNLUqkMY\",\n",
    "    \"https://www.youtube.com/watch?v=q0KZuZF01FA\",\n",
    "    \"https://www.youtube.com/watch?v=Vds8ddYXYZY\",\n",
    "    \"https://www.youtube.com/watch?v=gm3-m2CFVWM\",\n",
    "    \"https://www.youtube.com/watch?v=BerNfXSuvJ0\",\n",
    "    \"https://www.youtube.com/watch?v=aFmTvY11vug\",\n",
    "    \"https://www.youtube.com/watch?v=LOZuxwVk7TU\",\n",
    "    \"https://www.youtube.com/watch?v=TUVcZfQe-Kw\",\n",
    "    \"https://www.youtube.com/watch?v=Ab6E2BsuLJ0\",\n",
    "    \"https://www.youtube.com/watch?v=g7X9X6TlrUo\",\n",
    "    \"https://www.youtube.com/watch?v=nsXwi67WgOo\",\n",
    "    \"https://www.youtube.com/watch?v=HCq1OcAEAm0\",\n",
    "]"
   ]
  },
  {
   "cell_type": "code",
   "execution_count": null,
   "id": "4b067114-011d-40e5-85f3-84a216cec67a",
   "metadata": {},
   "outputs": [],
   "source": [
    "for url in urllist:\n",
    "    !youtube-dl --extract-audio --audio-format wav --audio-quality 0 --output \"{output_folder}/%(id)s.%(ext)s\" \"{url}\""
   ]
  },
  {
   "cell_type": "markdown",
   "id": "53e9b986-a395-4af8-a47b-9d573962b5b1",
   "metadata": {},
   "source": [
    "## 2. Generate Dances\n",
    "After the music is downloaded, run the model on the music to process the music and generate dances. Stick figure videos will be saved to `output_folder` and pickle files of the motions will be saved to `motion_folder`"
   ]
  },
  {
   "cell_type": "code",
   "execution_count": null,
   "id": "4ea03e78-722c-4e76-b8c4-e0789785248a",
   "metadata": {},
   "outputs": [],
   "source": [
    "!python test.py --music_dir \"{output_folder}\"/ --save_motions --motion_save_dir \"{motion_folder}\""
   ]
  },
  {
   "cell_type": "markdown",
   "id": "94972628-44d8-4c71-a681-8025fdb0b630",
   "metadata": {},
   "source": [
    "## 3. (Optional) Generate 3D renders with Blender\n",
    "Turn the stick figure videos into 3D motions by converting the pickle files into FBX files, which can be imported into Blender. The FBX files will be outputted to `fbx_folder`."
   ]
  },
  {
   "cell_type": "code",
   "execution_count": null,
   "id": "7e7de01d-07e9-45d5-9574-ae095a9d1275",
   "metadata": {},
   "outputs": [],
   "source": [
    "!python SMPL-to-FBX/Convert.py --input_dir \"{motion_folder}\" --output_dir \"{fbx_folder}\""
   ]
  }
 ],
 "metadata": {
  "kernelspec": {
   "display_name": "Python 3 (ipykernel)",
   "language": "python",
   "name": "python3"
  },
  "language_info": {
   "codemirror_mode": {
    "name": "ipython",
    "version": 3
   },
   "file_extension": ".py",
   "mimetype": "text/x-python",
   "name": "python",
   "nbconvert_exporter": "python",
   "pygments_lexer": "ipython3",
   "version": "3.1.-1"
  }
 },
 "nbformat": 4,
 "nbformat_minor": 5
}
